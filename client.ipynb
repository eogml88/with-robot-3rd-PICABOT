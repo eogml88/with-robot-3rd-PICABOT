{
 "cells": [
  {
   "cell_type": "code",
   "execution_count": 1,
   "metadata": {},
   "outputs": [],
   "source": [
    "import http.client\n",
    "import json"
   ]
  },
  {
   "cell_type": "markdown",
   "metadata": {},
   "source": [
    "# Mission"
   ]
  },
  {
   "cell_type": "code",
   "execution_count": 2,
   "metadata": {},
   "outputs": [],
   "source": [
    "predefined_points = [\n",
    "    \"/bedroom1\",\n",
    "    \"/bedroom2\",\n",
    "    \"/toilet\",\n",
    "    \"/entrance\",\n",
    "    \"/dining\",\n",
    "    \"/livingroom\",\n",
    "    \"/balcony_init\",\n",
    "    \"/balcony_end\",\n",
    "]"
   ]
  },
  {
   "cell_type": "code",
   "execution_count": 23,
   "metadata": {},
   "outputs": [
    {
     "data": {
      "text/plain": [
       "<http.client.HTTPResponse at 0x1d1dbec2da0>"
      ]
     },
     "execution_count": 23,
     "metadata": {},
     "output_type": "execute_result"
    }
   ],
   "source": [
    "pick_location = \"/bedroom1\"\n",
    "place_location = \"/bedroom2\"\n",
    "\n",
    "params = json.dumps({\"pick_location\": pick_location,\n",
    "                   \"place_location\": place_location,\n",
    "                   \"target\": \"Cube\"})\n",
    "\n",
    "headers = {'Content-type': 'application/json'}\n",
    "\n",
    "connection = http.client.HTTPConnection('127.0.0.1:5555')\n",
    "connection.request('POST', '/mission', params, headers)\n",
    "response = connection.getresponse()\n",
    "response"
   ]
  },
  {
   "cell_type": "markdown",
   "metadata": {},
   "source": [
    "# Stop Simulation"
   ]
  },
  {
   "cell_type": "code",
   "execution_count": 24,
   "metadata": {},
   "outputs": [
    {
     "data": {
      "text/plain": [
       "<http.client.HTTPResponse at 0x1d1da75e7d0>"
      ]
     },
     "execution_count": 24,
     "metadata": {},
     "output_type": "execute_result"
    }
   ],
   "source": [
    "connection = http.client.HTTPConnection('127.0.0.1:5555')\n",
    "connection.request('GET', '/stop')\n",
    "response = connection.getresponse()\n",
    "response"
   ]
  },
  {
   "cell_type": "code",
   "execution_count": null,
   "metadata": {},
   "outputs": [],
   "source": []
  }
 ],
 "metadata": {
  "kernelspec": {
   "display_name": "coppelia",
   "language": "python",
   "name": "python3"
  },
  "language_info": {
   "codemirror_mode": {
    "name": "ipython",
    "version": 3
   },
   "file_extension": ".py",
   "mimetype": "text/x-python",
   "name": "python",
   "nbconvert_exporter": "python",
   "pygments_lexer": "ipython3",
   "version": "3.12.7"
  }
 },
 "nbformat": 4,
 "nbformat_minor": 2
}
